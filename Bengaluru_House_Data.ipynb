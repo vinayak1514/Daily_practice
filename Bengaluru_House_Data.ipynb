{
 "cells": [
  {
   "cell_type": "code",
   "execution_count": 172,
   "id": "35991b8b",
   "metadata": {},
   "outputs": [],
   "source": [
    "import pandas as pd\n",
    "import numpy as np\n",
    "import matplotlib.pyplot as plt\n",
    "import seaborn as sns\n",
    "import scipy.stats as stat\n",
    "import pylab "
   ]
  },
  {
   "cell_type": "code",
   "execution_count": 330,
   "id": "1dd209a1",
   "metadata": {},
   "outputs": [],
   "source": [
    "df = pd.read_csv('Bengaluru_House_Data.csv')"
   ]
  },
  {
   "cell_type": "code",
   "execution_count": 331,
   "id": "fd349230",
   "metadata": {},
   "outputs": [
    {
     "name": "stdout",
     "output_type": "stream",
     "text": [
      " Shape have 13320 rows and 9 columns\n"
     ]
    }
   ],
   "source": [
    "print(f\" Shape have {df.shape[0]} rows and {df.shape[1]} columns\")"
   ]
  },
  {
   "cell_type": "code",
   "execution_count": 509,
   "id": "0a994aa1",
   "metadata": {},
   "outputs": [
    {
     "data": {
      "text/html": [
       "<div>\n",
       "<style scoped>\n",
       "    .dataframe tbody tr th:only-of-type {\n",
       "        vertical-align: middle;\n",
       "    }\n",
       "\n",
       "    .dataframe tbody tr th {\n",
       "        vertical-align: top;\n",
       "    }\n",
       "\n",
       "    .dataframe thead th {\n",
       "        text-align: right;\n",
       "    }\n",
       "</style>\n",
       "<table border=\"1\" class=\"dataframe\">\n",
       "  <thead>\n",
       "    <tr style=\"text-align: right;\">\n",
       "      <th></th>\n",
       "      <th>location</th>\n",
       "      <th>size</th>\n",
       "      <th>total_sqft</th>\n",
       "      <th>bath</th>\n",
       "      <th>balcony</th>\n",
       "      <th>price</th>\n",
       "      <th>Whitefield</th>\n",
       "      <th>Sarjapur  Road</th>\n",
       "      <th>Electronic City</th>\n",
       "      <th>Kanakpura Road</th>\n",
       "      <th>...</th>\n",
       "      <th>Hebbal Kempapura</th>\n",
       "      <th>Basavangudi</th>\n",
       "      <th>Kumaraswami Layout</th>\n",
       "      <th>Mahadevpura</th>\n",
       "      <th>Anekal</th>\n",
       "      <th>Ambedkar Nagar</th>\n",
       "      <th>Doddathoguru</th>\n",
       "      <th>Old Airport Road</th>\n",
       "      <th>Chikkalasandra</th>\n",
       "      <th>Kammasandra</th>\n",
       "    </tr>\n",
       "  </thead>\n",
       "  <tbody>\n",
       "    <tr>\n",
       "      <th>6716</th>\n",
       "      <td>Lingarajapuram</td>\n",
       "      <td>1</td>\n",
       "      <td>450.0</td>\n",
       "      <td>1.0</td>\n",
       "      <td>2.0</td>\n",
       "      <td>60.0</td>\n",
       "      <td>0</td>\n",
       "      <td>0</td>\n",
       "      <td>0</td>\n",
       "      <td>0</td>\n",
       "      <td>...</td>\n",
       "      <td>0</td>\n",
       "      <td>0</td>\n",
       "      <td>0</td>\n",
       "      <td>0</td>\n",
       "      <td>0</td>\n",
       "      <td>0</td>\n",
       "      <td>0</td>\n",
       "      <td>0</td>\n",
       "      <td>0</td>\n",
       "      <td>0</td>\n",
       "    </tr>\n",
       "    <tr>\n",
       "      <th>7003</th>\n",
       "      <td>Nrupathunga Nagar</td>\n",
       "      <td>7</td>\n",
       "      <td>1200.0</td>\n",
       "      <td>5.0</td>\n",
       "      <td>0.0</td>\n",
       "      <td>80.0</td>\n",
       "      <td>0</td>\n",
       "      <td>0</td>\n",
       "      <td>0</td>\n",
       "      <td>0</td>\n",
       "      <td>...</td>\n",
       "      <td>0</td>\n",
       "      <td>0</td>\n",
       "      <td>0</td>\n",
       "      <td>0</td>\n",
       "      <td>0</td>\n",
       "      <td>0</td>\n",
       "      <td>0</td>\n",
       "      <td>0</td>\n",
       "      <td>0</td>\n",
       "      <td>0</td>\n",
       "    </tr>\n",
       "    <tr>\n",
       "      <th>2459</th>\n",
       "      <td>Rayasandra</td>\n",
       "      <td>7</td>\n",
       "      <td>700.0</td>\n",
       "      <td>6.0</td>\n",
       "      <td>2.0</td>\n",
       "      <td>85.0</td>\n",
       "      <td>0</td>\n",
       "      <td>0</td>\n",
       "      <td>0</td>\n",
       "      <td>0</td>\n",
       "      <td>...</td>\n",
       "      <td>0</td>\n",
       "      <td>0</td>\n",
       "      <td>0</td>\n",
       "      <td>0</td>\n",
       "      <td>0</td>\n",
       "      <td>0</td>\n",
       "      <td>0</td>\n",
       "      <td>0</td>\n",
       "      <td>0</td>\n",
       "      <td>0</td>\n",
       "    </tr>\n",
       "    <tr>\n",
       "      <th>4619</th>\n",
       "      <td>Whitefield</td>\n",
       "      <td>3</td>\n",
       "      <td>1700.0</td>\n",
       "      <td>3.0</td>\n",
       "      <td>2.0</td>\n",
       "      <td>95.0</td>\n",
       "      <td>1</td>\n",
       "      <td>0</td>\n",
       "      <td>0</td>\n",
       "      <td>0</td>\n",
       "      <td>...</td>\n",
       "      <td>0</td>\n",
       "      <td>0</td>\n",
       "      <td>0</td>\n",
       "      <td>0</td>\n",
       "      <td>0</td>\n",
       "      <td>0</td>\n",
       "      <td>0</td>\n",
       "      <td>0</td>\n",
       "      <td>0</td>\n",
       "      <td>0</td>\n",
       "    </tr>\n",
       "    <tr>\n",
       "      <th>6989</th>\n",
       "      <td>Electronic City</td>\n",
       "      <td>3</td>\n",
       "      <td>1631.0</td>\n",
       "      <td>3.0</td>\n",
       "      <td>2.0</td>\n",
       "      <td>80.0</td>\n",
       "      <td>0</td>\n",
       "      <td>0</td>\n",
       "      <td>1</td>\n",
       "      <td>0</td>\n",
       "      <td>...</td>\n",
       "      <td>0</td>\n",
       "      <td>0</td>\n",
       "      <td>0</td>\n",
       "      <td>0</td>\n",
       "      <td>0</td>\n",
       "      <td>0</td>\n",
       "      <td>0</td>\n",
       "      <td>0</td>\n",
       "      <td>0</td>\n",
       "      <td>0</td>\n",
       "    </tr>\n",
       "  </tbody>\n",
       "</table>\n",
       "<p>5 rows × 106 columns</p>\n",
       "</div>"
      ],
      "text/plain": [
       "               location  size  total_sqft  bath  balcony  price  Whitefield  \\\n",
       "6716     Lingarajapuram     1       450.0   1.0      2.0   60.0           0   \n",
       "7003  Nrupathunga Nagar     7      1200.0   5.0      0.0   80.0           0   \n",
       "2459         Rayasandra     7       700.0   6.0      2.0   85.0           0   \n",
       "4619         Whitefield     3      1700.0   3.0      2.0   95.0           1   \n",
       "6989    Electronic City     3      1631.0   3.0      2.0   80.0           0   \n",
       "\n",
       "      Sarjapur  Road  Electronic City  Kanakpura Road  ...  Hebbal Kempapura  \\\n",
       "6716               0                0               0  ...                 0   \n",
       "7003               0                0               0  ...                 0   \n",
       "2459               0                0               0  ...                 0   \n",
       "4619               0                0               0  ...                 0   \n",
       "6989               0                1               0  ...                 0   \n",
       "\n",
       "      Basavangudi  Kumaraswami Layout  Mahadevpura  Anekal  Ambedkar Nagar  \\\n",
       "6716            0                   0            0       0               0   \n",
       "7003            0                   0            0       0               0   \n",
       "2459            0                   0            0       0               0   \n",
       "4619            0                   0            0       0               0   \n",
       "6989            0                   0            0       0               0   \n",
       "\n",
       "      Doddathoguru  Old Airport Road  Chikkalasandra  Kammasandra  \n",
       "6716             0                 0               0            0  \n",
       "7003             0                 0               0            0  \n",
       "2459             0                 0               0            0  \n",
       "4619             0                 0               0            0  \n",
       "6989             0                 0               0            0  \n",
       "\n",
       "[5 rows x 106 columns]"
      ]
     },
     "execution_count": 509,
     "metadata": {},
     "output_type": "execute_result"
    }
   ],
   "source": [
    "df.sample(5)"
   ]
  },
  {
   "cell_type": "code",
   "execution_count": 333,
   "id": "8b59e419",
   "metadata": {},
   "outputs": [
    {
     "data": {
      "text/plain": [
       "area_type        0.000000\n",
       "availability     0.000000\n",
       "location         0.007508\n",
       "size             0.120120\n",
       "society         41.306306\n",
       "total_sqft       0.000000\n",
       "bath             0.548048\n",
       "balcony          4.572072\n",
       "price            0.000000\n",
       "dtype: float64"
      ]
     },
     "execution_count": 333,
     "metadata": {},
     "output_type": "execute_result"
    }
   ],
   "source": [
    "df.isnull().mean()*100"
   ]
  },
  {
   "cell_type": "code",
   "execution_count": 334,
   "id": "ba5d75fa",
   "metadata": {},
   "outputs": [
    {
     "data": {
      "text/plain": [
       "529"
      ]
     },
     "execution_count": 334,
     "metadata": {},
     "output_type": "execute_result"
    }
   ],
   "source": [
    "df.duplicated().sum()"
   ]
  },
  {
   "cell_type": "code",
   "execution_count": 335,
   "id": "7ed8d965",
   "metadata": {},
   "outputs": [],
   "source": [
    "df.drop_duplicates(inplace=True)"
   ]
  },
  {
   "cell_type": "code",
   "execution_count": 336,
   "id": "b9403a8d",
   "metadata": {},
   "outputs": [
    {
     "data": {
      "text/plain": [
       "(12791, 9)"
      ]
     },
     "execution_count": 336,
     "metadata": {},
     "output_type": "execute_result"
    }
   ],
   "source": [
    "df.shape"
   ]
  },
  {
   "cell_type": "code",
   "execution_count": 337,
   "id": "e9b748a2",
   "metadata": {
    "scrolled": true
   },
   "outputs": [
    {
     "name": "stdout",
     "output_type": "stream",
     "text": [
      "<class 'pandas.core.frame.DataFrame'>\n",
      "Int64Index: 12791 entries, 0 to 13318\n",
      "Data columns (total 9 columns):\n",
      " #   Column        Non-Null Count  Dtype  \n",
      "---  ------        --------------  -----  \n",
      " 0   area_type     12791 non-null  object \n",
      " 1   availability  12791 non-null  object \n",
      " 2   location      12790 non-null  object \n",
      " 3   size          12775 non-null  object \n",
      " 4   society       7463 non-null   object \n",
      " 5   total_sqft    12791 non-null  object \n",
      " 6   bath          12718 non-null  float64\n",
      " 7   balcony       12186 non-null  float64\n",
      " 8   price         12791 non-null  float64\n",
      "dtypes: float64(3), object(6)\n",
      "memory usage: 999.3+ KB\n"
     ]
    }
   ],
   "source": [
    "df.info()"
   ]
  },
  {
   "cell_type": "code",
   "execution_count": 338,
   "id": "255b92a2",
   "metadata": {},
   "outputs": [],
   "source": [
    "df.drop(columns=['society','area_type','availability'],inplace=True)"
   ]
  },
  {
   "cell_type": "code",
   "execution_count": 339,
   "id": "0027ca34",
   "metadata": {},
   "outputs": [
    {
     "data": {
      "text/html": [
       "<div>\n",
       "<style scoped>\n",
       "    .dataframe tbody tr th:only-of-type {\n",
       "        vertical-align: middle;\n",
       "    }\n",
       "\n",
       "    .dataframe tbody tr th {\n",
       "        vertical-align: top;\n",
       "    }\n",
       "\n",
       "    .dataframe thead th {\n",
       "        text-align: right;\n",
       "    }\n",
       "</style>\n",
       "<table border=\"1\" class=\"dataframe\">\n",
       "  <thead>\n",
       "    <tr style=\"text-align: right;\">\n",
       "      <th></th>\n",
       "      <th>location</th>\n",
       "      <th>size</th>\n",
       "      <th>total_sqft</th>\n",
       "      <th>bath</th>\n",
       "      <th>balcony</th>\n",
       "      <th>price</th>\n",
       "    </tr>\n",
       "  </thead>\n",
       "  <tbody>\n",
       "    <tr>\n",
       "      <th>0</th>\n",
       "      <td>Electronic City Phase II</td>\n",
       "      <td>2 BHK</td>\n",
       "      <td>1056</td>\n",
       "      <td>2.0</td>\n",
       "      <td>1.0</td>\n",
       "      <td>39.07</td>\n",
       "    </tr>\n",
       "    <tr>\n",
       "      <th>1</th>\n",
       "      <td>Chikka Tirupathi</td>\n",
       "      <td>4 Bedroom</td>\n",
       "      <td>2600</td>\n",
       "      <td>5.0</td>\n",
       "      <td>3.0</td>\n",
       "      <td>120.00</td>\n",
       "    </tr>\n",
       "    <tr>\n",
       "      <th>2</th>\n",
       "      <td>Uttarahalli</td>\n",
       "      <td>3 BHK</td>\n",
       "      <td>1440</td>\n",
       "      <td>2.0</td>\n",
       "      <td>3.0</td>\n",
       "      <td>62.00</td>\n",
       "    </tr>\n",
       "    <tr>\n",
       "      <th>3</th>\n",
       "      <td>Lingadheeranahalli</td>\n",
       "      <td>3 BHK</td>\n",
       "      <td>1521</td>\n",
       "      <td>3.0</td>\n",
       "      <td>1.0</td>\n",
       "      <td>95.00</td>\n",
       "    </tr>\n",
       "    <tr>\n",
       "      <th>4</th>\n",
       "      <td>Kothanur</td>\n",
       "      <td>2 BHK</td>\n",
       "      <td>1200</td>\n",
       "      <td>2.0</td>\n",
       "      <td>1.0</td>\n",
       "      <td>51.00</td>\n",
       "    </tr>\n",
       "  </tbody>\n",
       "</table>\n",
       "</div>"
      ],
      "text/plain": [
       "                   location       size total_sqft  bath  balcony   price\n",
       "0  Electronic City Phase II      2 BHK       1056   2.0      1.0   39.07\n",
       "1          Chikka Tirupathi  4 Bedroom       2600   5.0      3.0  120.00\n",
       "2               Uttarahalli      3 BHK       1440   2.0      3.0   62.00\n",
       "3        Lingadheeranahalli      3 BHK       1521   3.0      1.0   95.00\n",
       "4                  Kothanur      2 BHK       1200   2.0      1.0   51.00"
      ]
     },
     "execution_count": 339,
     "metadata": {},
     "output_type": "execute_result"
    }
   ],
   "source": [
    "df.head()"
   ]
  },
  {
   "cell_type": "markdown",
   "id": "c79c7815",
   "metadata": {},
   "source": [
    "# report \n",
    "* society having more null value we drop the society feature \n",
    "* data have duplicate 529 value we drop value \n",
    "* we drop 'society','area_type','availability' feature because this not much usefull feature"
   ]
  },
  {
   "cell_type": "code",
   "execution_count": 340,
   "id": "d7e506a1",
   "metadata": {},
   "outputs": [
    {
     "name": "stdout",
     "output_type": "stream",
     "text": [
      "<class 'pandas.core.frame.DataFrame'>\n",
      "Int64Index: 12791 entries, 0 to 13318\n",
      "Data columns (total 6 columns):\n",
      " #   Column      Non-Null Count  Dtype  \n",
      "---  ------      --------------  -----  \n",
      " 0   location    12790 non-null  object \n",
      " 1   size        12775 non-null  object \n",
      " 2   total_sqft  12791 non-null  object \n",
      " 3   bath        12718 non-null  float64\n",
      " 4   balcony     12186 non-null  float64\n",
      " 5   price       12791 non-null  float64\n",
      "dtypes: float64(3), object(3)\n",
      "memory usage: 699.5+ KB\n"
     ]
    }
   ],
   "source": [
    "df.info()"
   ]
  },
  {
   "cell_type": "code",
   "execution_count": 341,
   "id": "a4459507",
   "metadata": {},
   "outputs": [
    {
     "name": "stdout",
     "output_type": "stream",
     "text": [
      "Unique value count in each feature\n",
      "\n",
      "location ------> 1306\n",
      "size ------> 32\n",
      "total_sqft ------> 2117\n",
      "bath ------> 20\n",
      "balcony ------> 5\n",
      "price ------> 1994\n"
     ]
    }
   ],
   "source": [
    "print('Unique value count in each feature')\n",
    "print()\n",
    "data_columns = ['location','size','total_sqft','bath','balcony','price']\n",
    "for col in data_columns:\n",
    "    u = len(df[col].unique())\n",
    "    print(col,\"------>\",u)"
   ]
  },
  {
   "cell_type": "code",
   "execution_count": 342,
   "id": "f3e6247c",
   "metadata": {},
   "outputs": [
    {
     "data": {
      "text/plain": [
       "location        1\n",
       "size           16\n",
       "total_sqft      0\n",
       "bath           73\n",
       "balcony       605\n",
       "price           0\n",
       "dtype: int64"
      ]
     },
     "execution_count": 342,
     "metadata": {},
     "output_type": "execute_result"
    }
   ],
   "source": [
    "df.isnull().sum()"
   ]
  },
  {
   "cell_type": "code",
   "execution_count": 343,
   "id": "ed154b76",
   "metadata": {},
   "outputs": [],
   "source": [
    "df['bath']= df['bath'].fillna(df['bath'].median())\n",
    "df['balcony']= df['balcony'].fillna(df['balcony'].median())\n",
    "df['location']= df['location'].fillna(df['location'].mode()[0])\n",
    "df['size']= df['size'].fillna(df['size'].mode()[0])"
   ]
  },
  {
   "cell_type": "code",
   "execution_count": 344,
   "id": "86e131e5",
   "metadata": {},
   "outputs": [
    {
     "data": {
      "text/plain": [
       "location      0\n",
       "size          0\n",
       "total_sqft    0\n",
       "bath          0\n",
       "balcony       0\n",
       "price         0\n",
       "dtype: int64"
      ]
     },
     "execution_count": 344,
     "metadata": {},
     "output_type": "execute_result"
    }
   ],
   "source": [
    "df.isnull().sum()"
   ]
  },
  {
   "cell_type": "code",
   "execution_count": 345,
   "id": "537ece0c",
   "metadata": {},
   "outputs": [],
   "source": [
    "df['size'] = df['size'].str.replace('BHK','').str.replace('Bedroom','').str.replace('RK','').str.replace(\" \",\"\")"
   ]
  },
  {
   "cell_type": "code",
   "execution_count": 346,
   "id": "78ead47d",
   "metadata": {},
   "outputs": [
    {
     "name": "stdout",
     "output_type": "stream",
     "text": [
      "<class 'pandas.core.series.Series'>\n",
      "Int64Index: 12791 entries, 0 to 13318\n",
      "Series name: size\n",
      "Non-Null Count  Dtype \n",
      "--------------  ----- \n",
      "12791 non-null  object\n",
      "dtypes: object(1)\n",
      "memory usage: 199.9+ KB\n"
     ]
    }
   ],
   "source": [
    "df['size'].info()"
   ]
  },
  {
   "cell_type": "code",
   "execution_count": 347,
   "id": "2b6fd91d",
   "metadata": {},
   "outputs": [
    {
     "data": {
      "text/html": [
       "<div>\n",
       "<style scoped>\n",
       "    .dataframe tbody tr th:only-of-type {\n",
       "        vertical-align: middle;\n",
       "    }\n",
       "\n",
       "    .dataframe tbody tr th {\n",
       "        vertical-align: top;\n",
       "    }\n",
       "\n",
       "    .dataframe thead th {\n",
       "        text-align: right;\n",
       "    }\n",
       "</style>\n",
       "<table border=\"1\" class=\"dataframe\">\n",
       "  <thead>\n",
       "    <tr style=\"text-align: right;\">\n",
       "      <th></th>\n",
       "      <th>location</th>\n",
       "      <th>size</th>\n",
       "      <th>total_sqft</th>\n",
       "      <th>bath</th>\n",
       "      <th>balcony</th>\n",
       "      <th>price</th>\n",
       "    </tr>\n",
       "  </thead>\n",
       "  <tbody>\n",
       "    <tr>\n",
       "      <th>0</th>\n",
       "      <td>Electronic City Phase II</td>\n",
       "      <td>2</td>\n",
       "      <td>1056</td>\n",
       "      <td>2.0</td>\n",
       "      <td>1.0</td>\n",
       "      <td>39.07</td>\n",
       "    </tr>\n",
       "    <tr>\n",
       "      <th>1</th>\n",
       "      <td>Chikka Tirupathi</td>\n",
       "      <td>4</td>\n",
       "      <td>2600</td>\n",
       "      <td>5.0</td>\n",
       "      <td>3.0</td>\n",
       "      <td>120.00</td>\n",
       "    </tr>\n",
       "    <tr>\n",
       "      <th>2</th>\n",
       "      <td>Uttarahalli</td>\n",
       "      <td>3</td>\n",
       "      <td>1440</td>\n",
       "      <td>2.0</td>\n",
       "      <td>3.0</td>\n",
       "      <td>62.00</td>\n",
       "    </tr>\n",
       "    <tr>\n",
       "      <th>3</th>\n",
       "      <td>Lingadheeranahalli</td>\n",
       "      <td>3</td>\n",
       "      <td>1521</td>\n",
       "      <td>3.0</td>\n",
       "      <td>1.0</td>\n",
       "      <td>95.00</td>\n",
       "    </tr>\n",
       "    <tr>\n",
       "      <th>4</th>\n",
       "      <td>Kothanur</td>\n",
       "      <td>2</td>\n",
       "      <td>1200</td>\n",
       "      <td>2.0</td>\n",
       "      <td>1.0</td>\n",
       "      <td>51.00</td>\n",
       "    </tr>\n",
       "  </tbody>\n",
       "</table>\n",
       "</div>"
      ],
      "text/plain": [
       "                   location size total_sqft  bath  balcony   price\n",
       "0  Electronic City Phase II    2       1056   2.0      1.0   39.07\n",
       "1          Chikka Tirupathi    4       2600   5.0      3.0  120.00\n",
       "2               Uttarahalli    3       1440   2.0      3.0   62.00\n",
       "3        Lingadheeranahalli    3       1521   3.0      1.0   95.00\n",
       "4                  Kothanur    2       1200   2.0      1.0   51.00"
      ]
     },
     "execution_count": 347,
     "metadata": {},
     "output_type": "execute_result"
    }
   ],
   "source": [
    "df.head()"
   ]
  },
  {
   "cell_type": "code",
   "execution_count": 348,
   "id": "fde8b963",
   "metadata": {},
   "outputs": [],
   "source": [
    "df['size'] = df['size'].astype('int')"
   ]
  },
  {
   "cell_type": "code",
   "execution_count": 349,
   "id": "fc1decf6",
   "metadata": {},
   "outputs": [],
   "source": [
    "invalid_rows = df[df['total_sqft'].str.contains('Sq. Meter')]\n",
    "df.drop(invalid_rows.index, inplace=True) \n",
    "invalid_rows = df[df['total_sqft'].str.contains('Perch')]\n",
    "df.drop(invalid_rows.index, inplace=True) \n",
    "invalid_rows = df[df['total_sqft'].str.contains('Sq. Yards')]\n",
    "df.drop(invalid_rows.index, inplace=True) \n",
    "invalid_rows = df[df['total_sqft'].str.contains('Acres')]\n",
    "df.drop(invalid_rows.index, inplace=True) \n",
    "invalid_rows = df[df['total_sqft'].str.contains('Grounds')]\n",
    "df.drop(invalid_rows.index, inplace=True) \n",
    "invalid_rows = df[df['total_sqft'].str.contains('Cents')]\n",
    "df.drop(invalid_rows.index, inplace=True) \n",
    "invalid_rows = df[df['total_sqft'].str.contains('Guntha')]\n",
    "df.drop(invalid_rows.index, inplace=True) "
   ]
  },
  {
   "cell_type": "code",
   "execution_count": 350,
   "id": "d31b99fd",
   "metadata": {},
   "outputs": [],
   "source": [
    "def convert_sqft(values):\n",
    "        if \"-\" in values:\n",
    "            start , end = values.split(\"-\")\n",
    "            return (float(start) + float(end))/2\n",
    "        else:\n",
    "            return float(values)\n",
    "df['total_sqft'] = df['total_sqft'].apply(convert_sqft)"
   ]
  },
  {
   "cell_type": "code",
   "execution_count": 351,
   "id": "2d2f4b52",
   "metadata": {},
   "outputs": [
    {
     "name": "stdout",
     "output_type": "stream",
     "text": [
      "<class 'pandas.core.frame.DataFrame'>\n",
      "Int64Index: 12745 entries, 0 to 13318\n",
      "Data columns (total 6 columns):\n",
      " #   Column      Non-Null Count  Dtype  \n",
      "---  ------      --------------  -----  \n",
      " 0   location    12745 non-null  object \n",
      " 1   size        12745 non-null  int32  \n",
      " 2   total_sqft  12745 non-null  float64\n",
      " 3   bath        12745 non-null  float64\n",
      " 4   balcony     12745 non-null  float64\n",
      " 5   price       12745 non-null  float64\n",
      "dtypes: float64(4), int32(1), object(1)\n",
      "memory usage: 647.2+ KB\n"
     ]
    }
   ],
   "source": [
    "df.info()"
   ]
  },
  {
   "cell_type": "code",
   "execution_count": 352,
   "id": "014badc7",
   "metadata": {},
   "outputs": [],
   "source": [
    "from sklearn.linear_model import LinearRegression\n",
    "from sklearn.model_selection import train_test_split\n",
    "from sklearn.metrics import r2_score\n",
    "from sklearn.preprocessing import StandardScaler,MinMaxScaler,OneHotEncoder"
   ]
  },
  {
   "cell_type": "code",
   "execution_count": 486,
   "id": "567f8643",
   "metadata": {},
   "outputs": [],
   "source": [
    "top_100 =[x for x in df['location'].value_counts().sort_values(ascending=False).head(100).index]"
   ]
  },
  {
   "cell_type": "code",
   "execution_count": 492,
   "id": "e3c6465a",
   "metadata": {},
   "outputs": [
    {
     "data": {
      "text/html": [
       "<div>\n",
       "<style scoped>\n",
       "    .dataframe tbody tr th:only-of-type {\n",
       "        vertical-align: middle;\n",
       "    }\n",
       "\n",
       "    .dataframe tbody tr th {\n",
       "        vertical-align: top;\n",
       "    }\n",
       "\n",
       "    .dataframe thead th {\n",
       "        text-align: right;\n",
       "    }\n",
       "</style>\n",
       "<table border=\"1\" class=\"dataframe\">\n",
       "  <thead>\n",
       "    <tr style=\"text-align: right;\">\n",
       "      <th></th>\n",
       "      <th>location</th>\n",
       "      <th>size</th>\n",
       "      <th>total_sqft</th>\n",
       "      <th>bath</th>\n",
       "      <th>balcony</th>\n",
       "      <th>price</th>\n",
       "      <th>Whitefield</th>\n",
       "      <th>Sarjapur  Road</th>\n",
       "      <th>Electronic City</th>\n",
       "      <th>Kanakpura Road</th>\n",
       "      <th>...</th>\n",
       "      <th>Hebbal Kempapura</th>\n",
       "      <th>Basavangudi</th>\n",
       "      <th>Kumaraswami Layout</th>\n",
       "      <th>Mahadevpura</th>\n",
       "      <th>Anekal</th>\n",
       "      <th>Ambedkar Nagar</th>\n",
       "      <th>Doddathoguru</th>\n",
       "      <th>Old Airport Road</th>\n",
       "      <th>Chikkalasandra</th>\n",
       "      <th>Kammasandra</th>\n",
       "    </tr>\n",
       "  </thead>\n",
       "  <tbody>\n",
       "    <tr>\n",
       "      <th>0</th>\n",
       "      <td>Electronic City Phase II</td>\n",
       "      <td>2</td>\n",
       "      <td>1056.0</td>\n",
       "      <td>2.0</td>\n",
       "      <td>1.0</td>\n",
       "      <td>39.07</td>\n",
       "      <td>0</td>\n",
       "      <td>0</td>\n",
       "      <td>0</td>\n",
       "      <td>0</td>\n",
       "      <td>...</td>\n",
       "      <td>0</td>\n",
       "      <td>0</td>\n",
       "      <td>0</td>\n",
       "      <td>0</td>\n",
       "      <td>0</td>\n",
       "      <td>0</td>\n",
       "      <td>0</td>\n",
       "      <td>0</td>\n",
       "      <td>0</td>\n",
       "      <td>0</td>\n",
       "    </tr>\n",
       "    <tr>\n",
       "      <th>1</th>\n",
       "      <td>Chikka Tirupathi</td>\n",
       "      <td>4</td>\n",
       "      <td>2600.0</td>\n",
       "      <td>5.0</td>\n",
       "      <td>3.0</td>\n",
       "      <td>120.00</td>\n",
       "      <td>0</td>\n",
       "      <td>0</td>\n",
       "      <td>0</td>\n",
       "      <td>0</td>\n",
       "      <td>...</td>\n",
       "      <td>0</td>\n",
       "      <td>0</td>\n",
       "      <td>0</td>\n",
       "      <td>0</td>\n",
       "      <td>0</td>\n",
       "      <td>0</td>\n",
       "      <td>0</td>\n",
       "      <td>0</td>\n",
       "      <td>0</td>\n",
       "      <td>0</td>\n",
       "    </tr>\n",
       "    <tr>\n",
       "      <th>2</th>\n",
       "      <td>Uttarahalli</td>\n",
       "      <td>3</td>\n",
       "      <td>1440.0</td>\n",
       "      <td>2.0</td>\n",
       "      <td>3.0</td>\n",
       "      <td>62.00</td>\n",
       "      <td>0</td>\n",
       "      <td>0</td>\n",
       "      <td>0</td>\n",
       "      <td>0</td>\n",
       "      <td>...</td>\n",
       "      <td>0</td>\n",
       "      <td>0</td>\n",
       "      <td>0</td>\n",
       "      <td>0</td>\n",
       "      <td>0</td>\n",
       "      <td>0</td>\n",
       "      <td>0</td>\n",
       "      <td>0</td>\n",
       "      <td>0</td>\n",
       "      <td>0</td>\n",
       "    </tr>\n",
       "    <tr>\n",
       "      <th>3</th>\n",
       "      <td>Lingadheeranahalli</td>\n",
       "      <td>3</td>\n",
       "      <td>1521.0</td>\n",
       "      <td>3.0</td>\n",
       "      <td>1.0</td>\n",
       "      <td>95.00</td>\n",
       "      <td>0</td>\n",
       "      <td>0</td>\n",
       "      <td>0</td>\n",
       "      <td>0</td>\n",
       "      <td>...</td>\n",
       "      <td>0</td>\n",
       "      <td>0</td>\n",
       "      <td>0</td>\n",
       "      <td>0</td>\n",
       "      <td>0</td>\n",
       "      <td>0</td>\n",
       "      <td>0</td>\n",
       "      <td>0</td>\n",
       "      <td>0</td>\n",
       "      <td>0</td>\n",
       "    </tr>\n",
       "    <tr>\n",
       "      <th>4</th>\n",
       "      <td>Kothanur</td>\n",
       "      <td>2</td>\n",
       "      <td>1200.0</td>\n",
       "      <td>2.0</td>\n",
       "      <td>1.0</td>\n",
       "      <td>51.00</td>\n",
       "      <td>0</td>\n",
       "      <td>0</td>\n",
       "      <td>0</td>\n",
       "      <td>0</td>\n",
       "      <td>...</td>\n",
       "      <td>0</td>\n",
       "      <td>0</td>\n",
       "      <td>0</td>\n",
       "      <td>0</td>\n",
       "      <td>0</td>\n",
       "      <td>0</td>\n",
       "      <td>0</td>\n",
       "      <td>0</td>\n",
       "      <td>0</td>\n",
       "      <td>0</td>\n",
       "    </tr>\n",
       "  </tbody>\n",
       "</table>\n",
       "<p>5 rows × 106 columns</p>\n",
       "</div>"
      ],
      "text/plain": [
       "                   location  size  total_sqft  bath  balcony   price  \\\n",
       "0  Electronic City Phase II     2      1056.0   2.0      1.0   39.07   \n",
       "1          Chikka Tirupathi     4      2600.0   5.0      3.0  120.00   \n",
       "2               Uttarahalli     3      1440.0   2.0      3.0   62.00   \n",
       "3        Lingadheeranahalli     3      1521.0   3.0      1.0   95.00   \n",
       "4                  Kothanur     2      1200.0   2.0      1.0   51.00   \n",
       "\n",
       "   Whitefield  Sarjapur  Road  Electronic City  Kanakpura Road  ...  \\\n",
       "0           0               0                0               0  ...   \n",
       "1           0               0                0               0  ...   \n",
       "2           0               0                0               0  ...   \n",
       "3           0               0                0               0  ...   \n",
       "4           0               0                0               0  ...   \n",
       "\n",
       "   Hebbal Kempapura  Basavangudi  Kumaraswami Layout  Mahadevpura  Anekal  \\\n",
       "0                 0            0                   0            0       0   \n",
       "1                 0            0                   0            0       0   \n",
       "2                 0            0                   0            0       0   \n",
       "3                 0            0                   0            0       0   \n",
       "4                 0            0                   0            0       0   \n",
       "\n",
       "   Ambedkar Nagar  Doddathoguru  Old Airport Road  Chikkalasandra  Kammasandra  \n",
       "0               0             0                 0               0            0  \n",
       "1               0             0                 0               0            0  \n",
       "2               0             0                 0               0            0  \n",
       "3               0             0                 0               0            0  \n",
       "4               0             0                 0               0            0  \n",
       "\n",
       "[5 rows x 106 columns]"
      ]
     },
     "execution_count": 492,
     "metadata": {},
     "output_type": "execute_result"
    }
   ],
   "source": [
    "for label in top_100:\n",
    "    df[label] = np.where(df['location']==label,1,0)\n",
    "df.head()"
   ]
  },
  {
   "cell_type": "code",
   "execution_count": 493,
   "id": "c83d9ff8",
   "metadata": {},
   "outputs": [],
   "source": [
    "X = df.drop(columns=['location','price'])\n",
    "y = df['price']"
   ]
  },
  {
   "cell_type": "code",
   "execution_count": 494,
   "id": "7678b6ff",
   "metadata": {},
   "outputs": [],
   "source": [
    "X_train,X_test,y_train,y_test = train_test_split(X,y,test_size=0.2,random_state=34)"
   ]
  },
  {
   "cell_type": "code",
   "execution_count": 502,
   "id": "b4b71eac",
   "metadata": {},
   "outputs": [],
   "source": [
    "scaling = StandardScaler()\n",
    "X_train_scaled = scaling.fit_transform(X_train,y_train)\n",
    "X_test_scaled = scaling.transform(X_test)"
   ]
  },
  {
   "cell_type": "code",
   "execution_count": 506,
   "id": "b0ebbc48",
   "metadata": {},
   "outputs": [
    {
     "data": {
      "text/plain": [
       "SVR()"
      ]
     },
     "execution_count": 506,
     "metadata": {},
     "output_type": "execute_result"
    }
   ],
   "source": [
    "from sklearn.ensemble import RandomForestRegressor\n",
    "from sklearn.svm import SVR\n",
    "lr =  SVR()\n",
    "lr.fit(X_train,y_train)"
   ]
  },
  {
   "cell_type": "code",
   "execution_count": 507,
   "id": "9be79dd2",
   "metadata": {},
   "outputs": [],
   "source": [
    "y_pred = lr.predict(X_test)"
   ]
  },
  {
   "cell_type": "code",
   "execution_count": 508,
   "id": "013b653b",
   "metadata": {},
   "outputs": [
    {
     "data": {
      "text/plain": [
       "0.3235970445064321"
      ]
     },
     "execution_count": 508,
     "metadata": {},
     "output_type": "execute_result"
    }
   ],
   "source": [
    "r2_score(y_test,y_pred)"
   ]
  },
  {
   "cell_type": "code",
   "execution_count": null,
   "id": "f6988944",
   "metadata": {},
   "outputs": [],
   "source": []
  }
 ],
 "metadata": {
  "kernelspec": {
   "display_name": "Python 3 (ipykernel)",
   "language": "python",
   "name": "python3"
  },
  "language_info": {
   "codemirror_mode": {
    "name": "ipython",
    "version": 3
   },
   "file_extension": ".py",
   "mimetype": "text/x-python",
   "name": "python",
   "nbconvert_exporter": "python",
   "pygments_lexer": "ipython3",
   "version": "3.9.12"
  }
 },
 "nbformat": 4,
 "nbformat_minor": 5
}
